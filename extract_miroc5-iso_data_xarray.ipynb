{
 "cells": [
  {
   "cell_type": "code",
   "execution_count": 1,
   "id": "576cac40",
   "metadata": {
    "tags": []
   },
   "outputs": [
    {
     "data": {
      "text/html": [
       "\n",
       "<style>\n",
       "    div#notebook-container    { width: 95%; }\n",
       "    div#menubar-container     { width: 65%; }\n",
       "    div#maintoolbar-container { width: 99%; }\n",
       "</style>\n"
      ],
      "text/plain": [
       "<IPython.core.display.HTML object>"
      ]
     },
     "metadata": {},
     "output_type": "display_data"
    }
   ],
   "source": [
    "from IPython.display import display, HTML\n",
    "\n",
    "display(HTML(data=\"\"\"\n",
    "<style>\n",
    "    div#notebook-container    { width: 95%; }\n",
    "    div#menubar-container     { width: 65%; }\n",
    "    div#maintoolbar-container { width: 99%; }\n",
    "</style>\n",
    "\"\"\"))"
   ]
  },
  {
   "cell_type": "markdown",
   "id": "3fdb8e01-7d89-4c5c-99bb-205b0aff0942",
   "metadata": {},
   "source": [
    "# Extract data from MIROC5-iso"
   ]
  },
  {
   "cell_type": "markdown",
   "id": "4fa08674-87cc-4ef2-a4d6-7a649d82918e",
   "metadata": {},
   "source": [
    "This notebook is made to plot and extract data at a specific location and time range from MIROC5-iso simulations. Simulations nudged to ERA5 and JRA-55 are available. For now, tritium in precipitation, precipitation rate and 2m air temperature can be donwloaded. "
   ]
  },
  {
   "cell_type": "code",
   "execution_count": 2,
   "id": "5810a7a6",
   "metadata": {
    "tags": []
   },
   "outputs": [],
   "source": [
    "import os\n",
    "import math\n",
    "import numpy as np\n",
    "import pandas as pd\n",
    "import xarray as xr\n",
    "import scipy as sp\n",
    "import solara\n",
    "import datetime\n",
    "import ipywidgets as widgets\n",
    "import matplotlib.pyplot as plt\n",
    "import matplotlib.dates as mdates\n",
    "#import cartopy.crs as ccrs\n",
    "#from cartopy.util import add_cyclic_point\n",
    "#import cartopy.feature as feature\n",
    "%matplotlib inline"
   ]
  },
  {
   "cell_type": "code",
   "execution_count": 3,
   "id": "55a2ce97",
   "metadata": {
    "tags": []
   },
   "outputs": [],
   "source": [
    "# For the size of the figures\n",
    "plt.rcParams['figure.dpi'] = 200\n",
    "plt.rcParams['savefig.dpi'] = 300\n",
    "from matplotlib_inline.backend_inline import set_matplotlib_formats\n",
    "set_matplotlib_formats('pdf', 'png')"
   ]
  },
  {
   "cell_type": "code",
   "execution_count": 4,
   "id": "ffae5025",
   "metadata": {
    "tags": []
   },
   "outputs": [],
   "source": [
    "# some shortcuts to read the miroc5-iso netcdf files\n",
    "#work = \"/Users/acauquoin/Documents/Assistant_Professor_IIS/Tritium/MIROC5-iso_outputs/\"\n",
    "work =\"data_tritium_bomb_miroc/\"\n",
    "exp_tritium = \"bomb_tritium_\"\n",
    "exp_tritium_era5  = \"bomb_tritium_era5\"\n",
    "exp_tritium_jra55 = \"bomb_tritium_jra55\""
   ]
  },
  {
   "cell_type": "code",
   "execution_count": 5,
   "id": "b208224b-ffc1-42fe-aa37-2d22022789c0",
   "metadata": {
    "tags": []
   },
   "outputs": [],
   "source": [
    "# read netcdf files\n",
    "#\n",
    "ifile_prcpTU_era5  = work + \"/\" + exp_tritium_era5  + \"_miroc5_monmean.prcpTU.nc\"\n",
    "ifile_prcp_era5    = work + \"/\" + exp_tritium_era5  + \"_miroc5_monmean.prcp.nc\"\n",
    "ifile_temp2_era5   = work + \"/\" + exp_tritium_era5  + \"_miroc5_monmean.temp2.nc\"\n",
    "ifile_prcpTU_jra55 = work + \"/\" + exp_tritium_jra55  + \"_miroc5_monmean.prcpTU.nc\"\n",
    "ifile_prcp_jra55   = work + \"/\" + exp_tritium_jra55  + \"_miroc5_monmean.prcp.nc\"\n",
    "ifile_temp2_jra55  = work + \"/\" + exp_tritium_jra55  + \"_miroc5_monmean.temp2.nc\"\n",
    "#\n",
    "ds_prcpTU_era5  = xr.open_dataset(ifile_prcpTU_era5)\n",
    "ds_prcp_era5    = xr.open_dataset(ifile_prcp_era5)\n",
    "ds_temp2_era5   = xr.open_dataset(ifile_temp2_era5)\n",
    "ds_prcpTU_jra55 = xr.open_dataset(ifile_prcpTU_jra55)\n",
    "ds_prcp_jra55   = xr.open_dataset(ifile_prcp_jra55)\n",
    "ds_temp2_jra55  = xr.open_dataset(ifile_temp2_jra55)\n",
    "#\n",
    "ds_prcpTU_era5  = ds_prcpTU_era5.isel(bnds=0)\n",
    "ds_prcp_era5    = ds_prcp_era5.isel(bnds=0)\n",
    "ds_temp2_era5   = ds_temp2_era5.isel(bnds=0)\n",
    "ds_prcpTU_jra55 = ds_prcpTU_jra55.isel(bnds=0)\n",
    "ds_prcp_jra55   = ds_prcp_jra55.isel(bnds=0)\n",
    "ds_temp2_jra55  = ds_temp2_jra55.isel(bnds=0)\n",
    "#\n",
    "ds_prcp_era5 = ds_prcp_era5.rename({\"pr\": \"precip\"})\n",
    "ds_temp2_era5 = ds_temp2_era5.rename({\"tas\": \"temp2\"})\n",
    "ds_prcp_jra55 = ds_prcp_jra55.rename({\"pr\": \"precip\"})\n",
    "ds_temp2_jra55 = ds_temp2_jra55.rename({\"tas\": \"temp2\"})\n",
    "#\n",
    "ds_prcpTU_era5.TU_precip.attrs['units'] = \"TU\"\n",
    "ds_prcpTU_era5.TU_precip.attrs['standard_name'] = \"tritium in precipitation\"\n",
    "ds_prcp_era5.precip.attrs['units'] = \"mm/month\"\n",
    "ds_prcp_era5.precip.attrs['standard_name'] = \"precipitation\"\n",
    "ds_temp2_era5.temp2.attrs['units'] = \"°C\"\n",
    "ds_temp2_era5.temp2.attrs['standard_name'] = \"2m air temperature\"\n",
    "ds_prcpTU_jra55.TU_precip.attrs['units'] = \"TU\"\n",
    "ds_prcpTU_jra55.TU_precip.attrs['standard_name'] = \"tritium in precipitation\"\n",
    "ds_prcp_jra55.precip.attrs['units']      = \"mm/month\"\n",
    "ds_prcp_jra55.precip.attrs['standard_name'] = \"precipitation\"\n",
    "ds_temp2_jra55.temp2.attrs['units']      = \"°C\"\n",
    "ds_temp2_jra55.temp2.attrs['standard_name'] = \"2m air temperature\"\n",
    "#\n",
    "variables = ['TU_precip', 'precip', 'temp2']\n",
    "ds_era5  = xr.merge([ds_prcpTU_era5,  ds_prcp_era5,  ds_temp2_era5])\n",
    "ds_era5 = ds_era5[variables]\n",
    "ds_jra55 = xr.merge([ds_prcpTU_jra55, ds_prcp_jra55, ds_temp2_jra55])\n",
    "ds_jra55 = ds_jra55[variables]"
   ]
  },
  {
   "cell_type": "code",
   "execution_count": 6,
   "id": "6f964440-8423-40ed-b740-f52971fa6806",
   "metadata": {
    "tags": []
   },
   "outputs": [],
   "source": [
    "def convert360_180(_ds):\n",
    "    \"\"\"\n",
    "    convert longitude from 0-360 to -180 -- 180 deg\n",
    "    \"\"\"\n",
    "    # check if already \n",
    "    attrs = _ds['lon'].attrs\n",
    "    if _ds['lon'].min() >= 0:\n",
    "        with xr.set_options(keep_attrs=True): \n",
    "            _ds.coords['lon'] = (_ds['lon'] + 180) % 360 - 180\n",
    "        _ds = _ds.sortby('lon')\n",
    "    return _ds"
   ]
  },
  {
   "cell_type": "code",
   "execution_count": 7,
   "id": "255b7d21-f894-4979-beb2-b09bc2dda0a9",
   "metadata": {
    "tags": []
   },
   "outputs": [],
   "source": [
    "ds_era5  = convert360_180(ds_era5)\n",
    "ds_jra55 = convert360_180(ds_jra55)"
   ]
  },
  {
   "cell_type": "code",
   "execution_count": 8,
   "id": "852f4eb9-9f3e-4234-883b-4e83a6fd14df",
   "metadata": {
    "tags": []
   },
   "outputs": [],
   "source": [
    "#f,ax = plt.subplots(subplot_kw={'projection':ccrs.PlateCarree()})\n",
    "#\n",
    "#ds_era5['TU_precip'].isel(time=0).plot.pcolormesh(\n",
    "#    cmap = plt.get_cmap('RdYlBu_r'),ax=ax,\n",
    "#    cbar_kwargs={\n",
    "#        'label':'TU', \n",
    "#        'orientation':'horizontal'\n",
    "#    },\n",
    "#    transform=ccrs.PlateCarree(), \n",
    "#    x='lon',y='lat', levels=20)\n",
    "#ax.set_title('TU in precipitation')\n",
    "#ax.coastlines()"
   ]
  },
  {
   "cell_type": "code",
   "execution_count": 9,
   "id": "aa2af30a-89ce-437a-a470-1e1574644355",
   "metadata": {
    "tags": []
   },
   "outputs": [],
   "source": [
    "def plot_and_save_data_site(lon_station, lat_station, \n",
    "                            ndg, var, date_min, date_max, \n",
    "                            logscale, save_tu, save_precip, save_temp2):\n",
    "    \n",
    "    # nudging choice\n",
    "    if ndg == 'era5':\n",
    "        ds = ds_era5\n",
    "    elif ndg == 'jra55':\n",
    "        ds = ds_jra55\n",
    "    save_var = [save_tu, save_precip, save_temp2]\n",
    "    \n",
    "    # log scale\n",
    "    if logscale == True:\n",
    "        yscale = 'log'\n",
    "    else:\n",
    "        yscale = 'linear'\n",
    "    \n",
    "    # conversion of some variables\n",
    "    date_min = date_min.strftime(\"%Y-%m\")\n",
    "    date_max = date_max.strftime(\"%Y-%m\")\n",
    "    lon_station = float(lon_station)\n",
    "    lat_station = float(lat_station)\n",
    "    \n",
    "    # selection of date\n",
    "    ds_sel_date = ds.sel(time=slice(date_min, date_max))\n",
    "    \n",
    "    # plotting the data on the nearest grid cell of the chosen location\n",
    "    fig, ax = plt.subplots(figsize=(8,3), constrained_layout=True)\n",
    "    ax = ds_sel_date[var].sel(lon=lon_station, lat=lat_station, \n",
    "                              method='nearest').plot(x='time', \n",
    "                                                     ax=ax, yscale=yscale)\n",
    "    \n",
    "    # download button\n",
    "    cols = []\n",
    "    for i in range(len(variables)):\n",
    "        if save_var[i] == True:\n",
    "            cols.append(variables[i])\n",
    "    ds_sel_date = ds_sel_date.sel(lon=lon_station, lat=lat_station, method='nearest')\n",
    "    df = ds_sel_date.to_dataframe()\n",
    "    df = df[cols]\n",
    "    df.index = df.index.strftime('%Y-%m')\n",
    "    w = widgets.VBox([solara.FileDownload.widget(data=df.to_csv(sep=';'), filename=\"data_miroc5-iso.csv\")])\n",
    "    display(w)\n",
    "    \n",
    "    # print message\n",
    "    print(\"\")\n",
    "    print(\"Information of the plot:\")\n",
    "    print(\"Variable:\", var)\n",
    "    print(\"Longitude:\", lon_station, \"; Latitude:\", lat_station)\n",
    "    print(\"Nudging:\", ndg)\n",
    "    print(\"Date range:\", date_min, \"to\", date_max)\n",
    "    #print(\"Longitude resolution:\", 360./len(ds.lon))"
   ]
  },
  {
   "cell_type": "code",
   "execution_count": 10,
   "id": "b6176de5",
   "metadata": {
    "tags": []
   },
   "outputs": [],
   "source": [
    "# update the tritium time series based on coordinates values\n",
    "def build_ui():\n",
    "    \n",
    "    # create widget for coordinates selection\n",
    "    lon_station = widgets.Text(value=\"0\", \n",
    "                               placeholder='between -180 and 180', description='Longitude:', \n",
    "                               disabled=False, layout=widgets.Layout(width='200px'))\n",
    "    lat_station = widgets.Text(value=\"0\", \n",
    "                               placeholder='between -90 and 90', description='Latitude:', \n",
    "                               disabled=False, layout=widgets.Layout(width='200px'))\n",
    "    coord_input = lon_station, lat_station\n",
    "    \n",
    "    # create widget to select the simulation nudged to ERA5 or JRA-55\n",
    "    ndg = widgets.Dropdown(options=[('ERA5', 'era5'), ('JRA-55', 'jra55')], value='era5', \n",
    "                         description='Nudging:', layout=widgets.Layout(width='250px'))\n",
    "    \n",
    "    # create widget to select the variable\n",
    "    selvar = widgets.Dropdown(options=[('TU in precipitation', 'TU_precip'), \n",
    "                                       ('2m air temperature', 'temp2'), \n",
    "                                       ('precipitation', 'precip')], \n",
    "                              value='TU_precip', description='Variable:',\n",
    "                              layout=widgets.Layout(width='250px'))\n",
    "    \n",
    "    # create a widget to set the y-scale on log or linear scale\n",
    "    check_logscale = widgets.Checkbox(value=False, description=\"log scale\", indent=False, layout=widgets.Layout(margin='0 0 0 2.5em'))\n",
    "    \n",
    "    # create widget to select the variables to save in the csv file\n",
    "    data = [\"TU in precipitation\", \"Precipitation\", \"2m air temperature\"]\n",
    "    checkboxes = [widgets.Checkbox(value=False, description=label, indent=False, layout=widgets.Layout(width='150px', margin='0 0 0 0')) for label in data]\n",
    "    \n",
    "    # create widget for the date range\n",
    "    date_min = widgets.DatePicker(description='Date min:', disabled=False, value = datetime.date(1952,1,1))\n",
    "    date_max = widgets.DatePicker(description='Date max:', disabled=False, value = datetime.date(2018,12,1))\n",
    "    date_input = date_min, date_max\n",
    "    \n",
    "    # Arrange the control inputs:\n",
    "    controls = widgets.HBox([\n",
    "        widgets.VBox(coord_input),\n",
    "        widgets.VBox(date_input),\n",
    "        widgets.VBox([ndg, selvar]),\n",
    "        check_logscale\n",
    "    ])\n",
    "    \n",
    "    # link the cdo extraction command with the text input\n",
    "    plot = widgets.interactive_output(plot_and_save_data_site, \n",
    "                                      {'lon_station': lon_station, 'lat_station': lat_station,\n",
    "                                       'ndg': ndg, 'var': selvar,\n",
    "                                       'date_min': date_min, 'date_max': date_max,\n",
    "                                       'logscale': check_logscale,\n",
    "                                       'save_tu': checkboxes[0], \n",
    "                                       'save_precip': checkboxes[1], \n",
    "                                       'save_temp2': checkboxes[2]})\n",
    "    \n",
    "    # Build the UI panel, the controls at the top, the cdo output at the bottom\n",
    "    label = widgets.HTML('<b>Select the variables to download:</b>', layout=widgets.Layout(margin='0 1em 0 0'))\n",
    "    comment = widgets.HTML('Note: the day in the date pickers is not considered.', layout=widgets.Layout(margin='0 1em 0 0'))\n",
    "    ui = widgets.VBox([widgets.HBox([label, widgets.HBox(children=checkboxes)]), plot, controls, comment])\n",
    "    \n",
    "    return ui"
   ]
  },
  {
   "cell_type": "code",
   "execution_count": 11,
   "id": "4c4398ef",
   "metadata": {
    "tags": []
   },
   "outputs": [
    {
     "data": {
      "application/vnd.jupyter.widget-view+json": {
       "model_id": "87c76355e83d44e0902db8b11a5a13de",
       "version_major": 2,
       "version_minor": 0
      },
      "text/plain": [
       "VBox(children=(HBox(children=(HTML(value='<b>Select the variables to download:</b>', layout=Layout(margin='0 1…"
      ]
     },
     "execution_count": 11,
     "metadata": {},
     "output_type": "execute_result"
    }
   ],
   "source": [
    "build_ui()"
   ]
  },
  {
   "cell_type": "code",
   "execution_count": 12,
   "id": "43d623eb-dbb1-4e27-b46e-a4383c48cdb4",
   "metadata": {
    "tags": []
   },
   "outputs": [
    {
     "name": "stdout",
     "output_type": "stream",
     "text": [
      "Python implementation: CPython\n",
      "Python version       : 3.11.2\n",
      "IPython version      : 8.12.0\n",
      "\n",
      "numpy     : 1.24.2\n",
      "pandas    : 1.5.3\n",
      "xarray    : 2023.3.0\n",
      "solara    : 1.19.0\n",
      "ipywidgets: 8.0.6\n",
      "matplotlib: 3.6.3\n",
      "watermark : 2.4.3\n",
      "\n",
      "Compiler    : Clang 14.0.6 \n",
      "OS          : Darwin\n",
      "Release     : 22.5.0\n",
      "Machine     : x86_64\n",
      "Processor   : i386\n",
      "CPU cores   : 10\n",
      "Architecture: 64bit\n",
      "\n",
      " \n",
      "Last updated: Wed Aug 02 2023 12:17:09JST\n",
      "\n"
     ]
    }
   ],
   "source": [
    "%load_ext watermark\n",
    "\n",
    "# python, ipython, packages, and machine characteristics\n",
    "%watermark -v -m -p numpy,pandas,xarray,solara,ipywidgets,matplotlib,watermark\n",
    "\n",
    "# date\n",
    "print (\" \")\n",
    "%watermark -u -n -t -z"
   ]
  },
  {
   "cell_type": "code",
   "execution_count": null,
   "id": "2555df3a-d9d7-4b37-89ed-78610620c744",
   "metadata": {},
   "outputs": [],
   "source": []
  }
 ],
 "metadata": {
  "kernelspec": {
   "display_name": "Python 3 (ipykernel)",
   "language": "python",
   "name": "python3"
  },
  "language_info": {
   "codemirror_mode": {
    "name": "ipython",
    "version": 3
   },
   "file_extension": ".py",
   "mimetype": "text/x-python",
   "name": "python",
   "nbconvert_exporter": "python",
   "pygments_lexer": "ipython3",
   "version": "3.11.2"
  }
 },
 "nbformat": 4,
 "nbformat_minor": 5
}
