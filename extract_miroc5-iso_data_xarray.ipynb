{
 "cells": [
  {
   "cell_type": "code",
   "execution_count": 1,
   "id": "576cac40",
   "metadata": {
    "tags": []
   },
   "outputs": [
    {
     "data": {
      "text/html": [
       "\n",
       "<style>\n",
       "    div#notebook-container    { width: 95%; }\n",
       "    div#menubar-container     { width: 65%; }\n",
       "    div#maintoolbar-container { width: 99%; }\n",
       "</style>\n"
      ],
      "text/plain": [
       "<IPython.core.display.HTML object>"
      ]
     },
     "metadata": {},
     "output_type": "display_data"
    }
   ],
   "source": [
    "from IPython.display import display, HTML\n",
    "\n",
    "display(HTML(data=\"\"\"\n",
    "<style>\n",
    "    div#notebook-container    { width: 95%; }\n",
    "    div#menubar-container     { width: 65%; }\n",
    "    div#maintoolbar-container { width: 99%; }\n",
    "</style>\n",
    "\"\"\"))"
   ]
  },
  {
   "cell_type": "markdown",
   "id": "3fdb8e01-7d89-4c5c-99bb-205b0aff0942",
   "metadata": {},
   "source": [
    "# Extract data from MIROC5-iso"
   ]
  },
  {
   "cell_type": "markdown",
   "id": "4fa08674-87cc-4ef2-a4d6-7a649d82918e",
   "metadata": {},
   "source": [
    "This notebook allows to plot and extract data at a specific location and time range from MIROC5-iso simulations. Simulations nudged to ERA5 and JRA-55 are available. \n",
    "- The mean tritium in precipitation map can be plotted for a specified area and time period. The map can be downloaded as a pdf file.\n",
    "- Time series of tritium and $\\delta$$^{18}$O in precipitation, precipitation rate and air temperature at 2 m can be plotted for a specified location and time interval. The data can be downloaded as a CSV file, and the figure can be downloaded as a pdf file.\n",
    "- The map of vertically integrated water vapor transport can be plotted for a given area and month. The figure can be downloaded as a pdf file. "
   ]
  },
  {
   "cell_type": "markdown",
   "id": "21d0e474-bcba-4972-b45d-aa5388d0dd21",
   "metadata": {
    "tags": []
   },
   "source": [
    "## Packages and path"
   ]
  },
  {
   "cell_type": "code",
   "execution_count": 19,
   "id": "5810a7a6",
   "metadata": {
    "tags": []
   },
   "outputs": [],
   "source": [
    "import os\n",
    "import wget\n",
    "import numpy as np\n",
    "import xarray as xr\n",
    "import solara\n",
    "import datetime\n",
    "import ipywidgets as widgets\n",
    "import matplotlib.pyplot as plt\n",
    "import cartopy.crs as ccrs\n",
    "%matplotlib inline"
   ]
  },
  {
   "cell_type": "code",
   "execution_count": 3,
   "id": "55a2ce97",
   "metadata": {
    "tags": []
   },
   "outputs": [],
   "source": [
    "# For the size of the figures\n",
    "plt.rcParams['figure.dpi'] = 200\n",
    "plt.rcParams['savefig.dpi'] = 300\n",
    "from matplotlib_inline.backend_inline import set_matplotlib_formats\n",
    "set_matplotlib_formats('pdf', 'png')"
   ]
  },
  {
   "cell_type": "code",
   "execution_count": 4,
   "id": "ffae5025",
   "metadata": {
    "tags": []
   },
   "outputs": [],
   "source": [
    "# some shortcuts to download and read the miroc5-iso netcdf files\n",
    "work =\"data_tritium_bomb_miroc/\"\n",
    "exp_tritium = \"bomb_tritium_\"\n",
    "exp_tritium_era5  = \"bomb_tritium_era5\"\n",
    "exp_tritium_jra55 = \"bomb_tritium_jra55\""
   ]
  },
  {
   "cell_type": "markdown",
   "id": "dee9fc56-1e2f-4656-bc1a-1b535c0e0c1a",
   "metadata": {},
   "source": [
    "## Download MIROC5-iso outputs"
   ]
  },
  {
   "cell_type": "code",
   "execution_count": 5,
   "id": "b9d240d3-3a11-4a8a-8c4b-c5b990b26deb",
   "metadata": {
    "tags": []
   },
   "outputs": [
    {
     "name": "stdout",
     "output_type": "stream",
     "text": [
      "bomb_tritium_era5_miroc5_monmean.prcpTU.nc was already downloaded\n",
      "bomb_tritium_jra55_miroc5_monmean.prcpTU.nc was already downloaded\n",
      "bomb_tritium_era5_miroc5_monmean.prcp.nc was already downloaded\n",
      "bomb_tritium_jra55_miroc5_monmean.prcp.nc was already downloaded\n",
      "bomb_tritium_era5_miroc5_monmean.temp2.nc was already downloaded\n",
      "bomb_tritium_jra55_miroc5_monmean.temp2.nc was already downloaded\n",
      "bomb_tritium_era5_miroc5_monmean.d18Op.nc was already downloaded\n",
      "bomb_tritium_jra55_miroc5_monmean.d18Op.nc was already downloaded\n",
      "bomb_tritium_era5_miroc5_monmean.qtot_u.nc was already downloaded\n",
      "bomb_tritium_jra55_miroc5_monmean.qtot_u.nc was already downloaded\n",
      "bomb_tritium_era5_miroc5_monmean.qtot_v.nc was already downloaded\n",
      "bomb_tritium_jra55_miroc5_monmean.qtot_v.nc was already downloaded\n"
     ]
    }
   ],
   "source": [
    "# download from isotope server\n",
    "for var in [\"prcpTU\", \"prcp\", \"temp2\", \"d18Op\", \"qtot_u\", \"qtot_v\"]:\n",
    "    if os.path.isfile(exp_tritium_era5+\"_miroc5_monmean.\"+var+\".nc\"):\n",
    "        print(exp_tritium_era5+\"_miroc5_monmean.\"+var+\".nc was already downloaded\")\n",
    "        print(exp_tritium_jra55+\"_miroc5_monmean.\"+var+\".nc was already downloaded\")\n",
    "    else:\n",
    "        print(\"\")\n",
    "        print(\"downloading \"+exp_tritium_era5+\"_miroc5_monmean.\"+var+\".nc file\")\n",
    "        wget.download(\"http://isotope.iis.u-tokyo.ac.jp/~acauquoin/\"+work+\"/\"+exp_tritium_era5+\"_miroc5_monmean.\"+var+\".nc\")\n",
    "        print(\"\")\n",
    "        print(\"downloading \"+exp_tritium_jra55+\"_miroc5_monmean.\"+var+\".nc file\")\n",
    "        wget.download(\"http://isotope.iis.u-tokyo.ac.jp/~acauquoin/\"+work+\"/\"+exp_tritium_jra55+\"_miroc5_monmean.\"+var+\".nc\")       "
   ]
  },
  {
   "cell_type": "markdown",
   "id": "625ba12c-9532-446c-91a4-5df393d380ea",
   "metadata": {},
   "source": [
    "## Read and extract MIROC5-iso outputs"
   ]
  },
  {
   "cell_type": "code",
   "execution_count": 6,
   "id": "b208224b-ffc1-42fe-aa37-2d22022789c0",
   "metadata": {
    "tags": []
   },
   "outputs": [],
   "source": [
    "# read netcdf files\n",
    "#\n",
    "ifile_prcpTU_era5  = exp_tritium_era5  + \"_miroc5_monmean.prcpTU.nc\"\n",
    "ifile_prcp_era5    = exp_tritium_era5  + \"_miroc5_monmean.prcp.nc\"\n",
    "ifile_temp2_era5   = exp_tritium_era5  + \"_miroc5_monmean.temp2.nc\"\n",
    "ifile_d18Op_era5   = exp_tritium_era5  + \"_miroc5_monmean.d18Op.nc\"\n",
    "ifile_uqint_era5   = exp_tritium_era5  + \"_miroc5_monmean.qtot_u.nc\"\n",
    "ifile_vqint_era5   = exp_tritium_era5  + \"_miroc5_monmean.qtot_v.nc\"\n",
    "ifile_prcpTU_jra55 = exp_tritium_jra55 + \"_miroc5_monmean.prcpTU.nc\"\n",
    "ifile_prcp_jra55   = exp_tritium_jra55 + \"_miroc5_monmean.prcp.nc\"\n",
    "ifile_temp2_jra55  = exp_tritium_jra55 + \"_miroc5_monmean.temp2.nc\"\n",
    "ifile_d18Op_jra55  = exp_tritium_jra55 + \"_miroc5_monmean.d18Op.nc\"\n",
    "ifile_uqint_jra55  = exp_tritium_jra55 + \"_miroc5_monmean.qtot_u.nc\"\n",
    "ifile_vqint_jra55  = exp_tritium_jra55 + \"_miroc5_monmean.qtot_v.nc\"\n",
    "#\n",
    "ds_prcpTU_era5  = xr.open_dataset(ifile_prcpTU_era5)\n",
    "ds_prcp_era5    = xr.open_dataset(ifile_prcp_era5)\n",
    "ds_temp2_era5   = xr.open_dataset(ifile_temp2_era5)\n",
    "ds_d18Op_era5   = xr.open_dataset(ifile_d18Op_era5)\n",
    "ds_uqint_era5   = xr.open_dataset(ifile_uqint_era5)\n",
    "ds_vqint_era5   = xr.open_dataset(ifile_vqint_era5)\n",
    "ds_prcpTU_jra55 = xr.open_dataset(ifile_prcpTU_jra55)\n",
    "ds_prcp_jra55   = xr.open_dataset(ifile_prcp_jra55)\n",
    "ds_temp2_jra55  = xr.open_dataset(ifile_temp2_jra55)\n",
    "ds_d18Op_jra55  = xr.open_dataset(ifile_d18Op_jra55)\n",
    "ds_uqint_jra55  = xr.open_dataset(ifile_uqint_jra55)\n",
    "ds_vqint_jra55  = xr.open_dataset(ifile_vqint_jra55)\n",
    "#\n",
    "ds_prcpTU_era5  = ds_prcpTU_era5.isel(bnds=0)\n",
    "ds_prcp_era5    = ds_prcp_era5.isel(bnds=0)\n",
    "ds_temp2_era5   = ds_temp2_era5.isel(bnds=0)\n",
    "ds_d18Op_era5   = ds_d18Op_era5.isel(bnds=0)\n",
    "ds_uqint_era5   = ds_uqint_era5.isel(bnds=0)\n",
    "ds_vqint_era5   = ds_vqint_era5.isel(bnds=0)\n",
    "ds_prcpTU_jra55 = ds_prcpTU_jra55.isel(bnds=0)\n",
    "ds_prcp_jra55   = ds_prcp_jra55.isel(bnds=0)\n",
    "ds_temp2_jra55  = ds_temp2_jra55.isel(bnds=0)\n",
    "ds_d18Op_jra55  = ds_d18Op_jra55.isel(bnds=0)\n",
    "ds_uqint_jra55  = ds_uqint_jra55.isel(bnds=0)\n",
    "ds_vqint_jra55  = ds_vqint_jra55.isel(bnds=0)\n",
    "#\n",
    "ds_prcp_era5 = ds_prcp_era5.rename({\"pr\": \"precip\"})\n",
    "ds_temp2_era5 = ds_temp2_era5.rename({\"tas\": \"temp2\"})\n",
    "ds_prcp_jra55 = ds_prcp_jra55.rename({\"pr\": \"precip\"})\n",
    "ds_temp2_jra55 = ds_temp2_jra55.rename({\"tas\": \"temp2\"})\n",
    "#\n",
    "ds_prcpTU_era5.TU_precip.attrs['units'] = \"TU\"\n",
    "ds_prcpTU_era5.TU_precip.attrs['standard_name'] = \"tritium in precipitation\"\n",
    "ds_prcp_era5.precip.attrs['units'] = \"mm/month\"\n",
    "ds_prcp_era5.precip.attrs['standard_name'] = \"precipitation\"\n",
    "ds_temp2_era5.temp2.attrs['units'] = \"°C\"\n",
    "ds_temp2_era5.temp2.attrs['standard_name'] = \"2m air temperature\"\n",
    "ds_d18Op_era5.d18O_precip.attrs['units'] = \"‰\"\n",
    "ds_d18Op_era5.d18O_precip.attrs['standard_name'] = \"d18O in precipitation\"\n",
    "ds_uqint_era5.UQ.attrs['units'] = \"kg m-1 s-1\"\n",
    "ds_uqint_era5.UQ.attrs['standard_name'] = \"vert. int. water vapor transport - u component\"\n",
    "ds_vqint_era5.VQ.attrs['units'] = \"kg m-1 s-1\"\n",
    "ds_vqint_era5.VQ.attrs['standard_name'] = \"vert. int. water vapor transport - v component\"\n",
    "ds_prcpTU_jra55.TU_precip.attrs['units'] = \"TU\"\n",
    "ds_prcpTU_jra55.TU_precip.attrs['standard_name'] = \"tritium in precipitation\"\n",
    "ds_prcp_jra55.precip.attrs['units']      = \"mm/month\"\n",
    "ds_prcp_jra55.precip.attrs['standard_name'] = \"precipitation\"\n",
    "ds_temp2_jra55.temp2.attrs['units']      = \"°C\"\n",
    "ds_temp2_jra55.temp2.attrs['standard_name'] = \"2m air temperature\"\n",
    "ds_d18Op_jra55.d18O_precip.attrs['units'] = \"‰\"\n",
    "ds_d18Op_jra55.d18O_precip.attrs['standard_name'] = \"d18O in precipitation\"\n",
    "ds_uqint_jra55.UQ.attrs['units'] = \"kg m-1 s-1\"\n",
    "ds_uqint_jra55.UQ.attrs['standard_name'] = \"vert. int. water vapor transport - u component\"\n",
    "ds_vqint_jra55.VQ.attrs['units'] = \"kg m-1 s-1\"\n",
    "ds_vqint_jra55.VQ.attrs['standard_name'] = \"vert. int. water vapor transport - v component\"\n",
    "#\n",
    "variables = ['TU_precip', 'precip', 'temp2', 'd18O_precip', 'UQ', 'VQ']\n",
    "ds_era5  = xr.merge([ds_prcpTU_era5,  ds_prcp_era5,  ds_temp2_era5, ds_d18Op_era5, ds_uqint_era5, ds_vqint_era5])\n",
    "ds_era5 = ds_era5[variables]\n",
    "ds_jra55 = xr.merge([ds_prcpTU_jra55, ds_prcp_jra55, ds_temp2_jra55, ds_d18Op_jra55, ds_uqint_jra55, ds_vqint_jra55])\n",
    "ds_jra55 = ds_jra55[variables]"
   ]
  },
  {
   "cell_type": "code",
   "execution_count": 7,
   "id": "6f964440-8423-40ed-b740-f52971fa6806",
   "metadata": {
    "tags": []
   },
   "outputs": [],
   "source": [
    "def convert360_180(_ds):\n",
    "    \"\"\"\n",
    "    convert longitude from 0-360 to -180 -- 180 deg\n",
    "    \"\"\"\n",
    "    # check if already \n",
    "    attrs = _ds['lon'].attrs\n",
    "    if _ds['lon'].min() >= 0:\n",
    "        with xr.set_options(keep_attrs=True): \n",
    "            _ds.coords['lon'] = (_ds['lon'] + 180) % 360 - 180\n",
    "        _ds = _ds.sortby('lon')\n",
    "    return _ds"
   ]
  },
  {
   "cell_type": "code",
   "execution_count": 8,
   "id": "255b7d21-f894-4979-beb2-b09bc2dda0a9",
   "metadata": {
    "tags": []
   },
   "outputs": [],
   "source": [
    "ds_era5  = convert360_180(ds_era5)\n",
    "ds_jra55 = convert360_180(ds_jra55)"
   ]
  },
  {
   "cell_type": "markdown",
   "id": "f6eb0c6f-7d6a-4b50-b933-327d5a71f85d",
   "metadata": {
    "tags": []
   },
   "source": [
    "## Map of tritium in precipitation"
   ]
  },
  {
   "cell_type": "code",
   "execution_count": 9,
   "id": "852f4eb9-9f3e-4234-883b-4e83a6fd14df",
   "metadata": {
    "tags": []
   },
   "outputs": [],
   "source": [
    "def map_tritium(ndg, time_min, time_max, lon_min, lon_max, lat_min, lat_max):\n",
    "    \n",
    "    global f\n",
    "    \n",
    "    # ERA5 or JRA55\n",
    "    if ndg == 'era5':\n",
    "        ds = ds_era5\n",
    "    elif ndg == 'jra55':\n",
    "        ds = ds_jra55\n",
    "    \n",
    "    # conversion of some variables\n",
    "    time_min = time_min.strftime(\"%Y-%m\")\n",
    "    time_max = time_max.strftime(\"%Y-%m\")\n",
    "    lon_min = float(lon_min)\n",
    "    lon_max = float(lon_max)\n",
    "    lat_min = float(lat_min)\n",
    "    lat_max = float(lat_max)\n",
    "    if time_min == time_max:\n",
    "        title = 'Mean values for ' + ds.sel(time=time_min).time.dt.strftime('%Y-%m').values[0]\n",
    "    else:\n",
    "        title = 'Mean values over the period ' + ds.sel(time=time_min).time.dt.strftime('%Y-%m').values[0] + ' to ' + ds.sel(time=time_max).time.dt.strftime('%Y-%m').values[0]\n",
    "    \n",
    "    f,ax = plt.subplots(subplot_kw={'projection':ccrs.PlateCarree()})\n",
    "    \n",
    "    TU_weight = ds['TU_precip'] * ds['precip']\n",
    "    num = TU_weight.sel(time=slice(time_min, time_max), lon=slice(lon_min, lon_max), lat=slice(lat_max, lat_min)).sum(axis=0)\n",
    "    denom = ds['precip'].sel(time=slice(time_min, time_max), lon=slice(lon_min, lon_max), lat=slice(lat_max, lat_min)).sum(axis=0)\n",
    "    TU_mean = num / denom\n",
    "    \n",
    "    TU_mean.plot.pcolormesh(\n",
    "        cmap = plt.get_cmap('RdYlBu_r'),ax=ax,\n",
    "        cbar_kwargs={\n",
    "            'label':'Tritium in precipitation (TU)', \n",
    "            'orientation':'horizontal',\n",
    "            'pad':0.03, \n",
    "            'aspect':30\n",
    "        }, \n",
    "        transform=ccrs.PlateCarree(), \n",
    "        x='lon',y='lat', levels=30, \n",
    "        edgecolors='face', shading='nearest')\n",
    "    \n",
    "    ax.coastlines()\n",
    "    ax.set_title(title)\n",
    "    \n",
    "def save_image_tritium(b):\n",
    "    f.savefig('tritium_map.pdf', bbox_inches='tight')"
   ]
  },
  {
   "cell_type": "code",
   "execution_count": 10,
   "id": "1afcc9b9-20f3-4fa8-883f-de6e634f0d71",
   "metadata": {
    "tags": []
   },
   "outputs": [],
   "source": [
    "def build_tritium_map():\n",
    "    \n",
    "    # create widget to select the simulation nudged to ERA5 or JRA-55\n",
    "    ndg = widgets.Dropdown(options=[('ERA5', 'era5'), ('JRA-55', 'jra55')], value='era5', \n",
    "                           description='nudging:', \n",
    "                           continuous_update=False,\n",
    "                           layout=widgets.Layout(width='200px'))\n",
    "    \n",
    "    # create widget for coordinates selection\n",
    "    lon_min = widgets.Text(value=\"-180\", \n",
    "                           placeholder='between -180 and 180', \n",
    "                           description='lon min:', \n",
    "                           disabled=False, \n",
    "                           continuous_update=False,\n",
    "                           layout=widgets.Layout(width='200px'))\n",
    "    lon_max = widgets.Text(value=\"180\", \n",
    "                           placeholder='between -180 and 180', \n",
    "                           description='lon max:', \n",
    "                           disabled=False, \n",
    "                           continuous_update=False,\n",
    "                           layout=widgets.Layout(width='200px'))\n",
    "    lat_min = widgets.Text(value=\"-90\", \n",
    "                           placeholder='between -90 and 90', \n",
    "                           description='lat min:', \n",
    "                           disabled=False, \n",
    "                           continuous_update=False,\n",
    "                           layout=widgets.Layout(width='200px'))\n",
    "    lat_max = widgets.Text(value=\"90\", \n",
    "                           placeholder='between -90 and 90', \n",
    "                           description='lat max:', \n",
    "                           disabled=False, \n",
    "                           continuous_update=False,\n",
    "                           layout=widgets.Layout(width='200px'))\n",
    "    coord_lon = lon_min, lon_max\n",
    "    coord_lat = lat_min, lat_max\n",
    "    \n",
    "    # create widget for the date range\n",
    "    time_min = widgets.DatePicker(description='date min:', disabled=False, continuous_update=False, value = datetime.date(2021,1,1))\n",
    "    time_max = widgets.DatePicker(description='date max:', disabled=False, continuous_update=False, value = datetime.date(2021,12,1))\n",
    "    time_input = time_min, time_max\n",
    "    \n",
    "    # Arrange the control inputs:\n",
    "    controls = widgets.HBox([\n",
    "        ndg,\n",
    "        widgets.VBox(coord_lon),\n",
    "        widgets.VBox(coord_lat),\n",
    "        widgets.VBox(time_input)\n",
    "    ])\n",
    "    \n",
    "    # link the map_tritium function with the text input\n",
    "    plot = widgets.interactive_output(map_tritium, \n",
    "                                      {'ndg': ndg, \n",
    "                                       'time_min': time_min,\n",
    "                                       'time_max': time_max,\n",
    "                                       'lon_min': lon_min,\n",
    "                                       'lon_max': lon_max,\n",
    "                                       'lat_min': lat_min,\n",
    "                                       'lat_max': lat_max\n",
    "                                      })\n",
    "    \n",
    "    # button to save the map\n",
    "    btn_save = widgets.Button(description=\"save figure\", icon='file-pdf', layout=widgets.Layout(margin='1em 0 0 0'))\n",
    "    btn_save.on_click(save_image_tritium)\n",
    "\n",
    "    # Build the UI panel, the controls at the top, the cdo output at the bottom\n",
    "    comment1 = widgets.HTML('Note 1: the day in the date pickers is not considered.', layout=widgets.Layout(margin='1em 1em 0 0'))\n",
    "    comment2 = widgets.HTML('Note 2: The average value of each grid cell for the period between \\'date min\\' and \\'date max\\' is calculated.', layout=widgets.Layout(margin='0 1em 0 0'))\n",
    "    comment3 = widgets.HTML('Note 3: the colorbar scale is updated according to the mean tritium values in the considered area.', layout=widgets.Layout(margin='0 1em 0 0'))\n",
    "    comment4 = widgets.HTML('Note 4: for the coordinate boxes, type \\'Enter\\' or click on another box to update your change.', layout=widgets.Layout(margin='0 1em 0 0'))\n",
    "    comment5 = widgets.HTML('Note 5: the figure is saved in the current repository as tritium_map.pdf.', layout=widgets.Layout(margin='0 1em 0 0'))\n",
    "    ui = widgets.VBox([plot, controls, btn_save, comment1, comment2, comment3, comment4, comment5])\n",
    "    \n",
    "    return ui"
   ]
  },
  {
   "cell_type": "code",
   "execution_count": 11,
   "id": "a52dafbb-b2a3-43fe-9a2e-096d2eb11e5c",
   "metadata": {
    "tags": []
   },
   "outputs": [
    {
     "data": {
      "application/vnd.jupyter.widget-view+json": {
       "model_id": "aff198ff278c4df99ad083c9fc2445fb",
       "version_major": 2,
       "version_minor": 0
      },
      "text/plain": [
       "VBox(children=(Output(), HBox(children=(Dropdown(description='nudging:', layout=Layout(width='200px'), options…"
      ]
     },
     "execution_count": 11,
     "metadata": {},
     "output_type": "execute_result"
    }
   ],
   "source": [
    "build_tritium_map()"
   ]
  },
  {
   "cell_type": "markdown",
   "id": "c2f52128-208b-49e9-bbef-7ef8fe775ef5",
   "metadata": {
    "tags": []
   },
   "source": [
    "## Plot MIROC5-iso data at selected location and time"
   ]
  },
  {
   "cell_type": "code",
   "execution_count": 12,
   "id": "aa2af30a-89ce-437a-a470-1e1574644355",
   "metadata": {
    "tags": []
   },
   "outputs": [],
   "source": [
    "def plot_and_save_data_site(lon_station, lat_station, \n",
    "                            ndg, var, date_min, date_max, \n",
    "                            logscale, \n",
    "                            save_tu, save_precip, save_temp2, save_d18Op):\n",
    "    \n",
    "    global fig\n",
    "    \n",
    "    # nudging choice\n",
    "    if ndg == 'era5':\n",
    "        ds = ds_era5\n",
    "    elif ndg == 'jra55':\n",
    "        ds = ds_jra55\n",
    "    save_var = [save_tu, save_precip, save_temp2, save_d18Op]\n",
    "    \n",
    "    # log scale\n",
    "    if logscale == True:\n",
    "        yscale = 'log'\n",
    "    else:\n",
    "        yscale = 'linear'\n",
    "    \n",
    "    # conversion of some variables\n",
    "    date_min = date_min.strftime(\"%Y-%m\")\n",
    "    date_max = date_max.strftime(\"%Y-%m\")\n",
    "    lon_station = float(lon_station)\n",
    "    lat_station = float(lat_station)\n",
    "    \n",
    "    # selection of date\n",
    "    ds_sel_date = ds.sel(time=slice(date_min, date_max))\n",
    "    \n",
    "    # plotting the data on the nearest grid cell of the chosen location\n",
    "    fig, ax = plt.subplots(figsize=(8,3), constrained_layout=True)\n",
    "    ax = ds_sel_date[var].sel(lon=lon_station, lat=lat_station, \n",
    "                              method='nearest').plot(x='time', \n",
    "                                                     ax=ax, yscale=yscale)\n",
    "    \n",
    "    # download button\n",
    "    cols = []\n",
    "    var_plot = ['TU_precip', 'precip', 'temp2', 'd18O_precip']\n",
    "    for i in range(len(var_plot)):\n",
    "        if save_var[i] == True:\n",
    "            cols.append(var_plot[i])\n",
    "    ds_sel_date = ds_sel_date.sel(lon=lon_station, lat=lat_station, method='nearest')\n",
    "    df = ds_sel_date.to_dataframe()\n",
    "    df = df[cols]\n",
    "    df.index = df.index.strftime('%Y-%m')\n",
    "    w = widgets.VBox([solara.FileDownload.widget(data=df.to_csv(sep=';'), filename=\"data_miroc5-iso.csv\", layout=widgets.Layout(margin='1em 0 0 0'))])\n",
    "    display(w)\n",
    "    \n",
    "    # print message\n",
    "    print(\"\")\n",
    "    print(\"Information of the plot:\")\n",
    "    print(\"Variable:\", var)\n",
    "    print(\"Longitude:\", lon_station, \"; Latitude:\", lat_station)\n",
    "    print(\"Nudging:\", ndg)\n",
    "    print(\"Date range:\", date_min, \"to\", date_max)\n",
    "\n",
    "    \n",
    "def save_monitoring_plot(b):\n",
    "    fig.savefig('monitoring_plot.pdf', bbox_inches='tight')"
   ]
  },
  {
   "cell_type": "code",
   "execution_count": 13,
   "id": "b6176de5",
   "metadata": {
    "tags": []
   },
   "outputs": [],
   "source": [
    "# update the tritium time series based on coordinates values\n",
    "def build_monitoring_plot():\n",
    "    \n",
    "    # create widget for coordinates selection\n",
    "    lon_station = widgets.Text(value=\"0\", \n",
    "                               placeholder='between -180 and 180', description='Longitude:', \n",
    "                               disabled=False, continuous_update=False, layout=widgets.Layout(width='250px'))\n",
    "    lat_station = widgets.Text(value=\"0\", \n",
    "                               placeholder='between -90 and 90', description='Latitude:', \n",
    "                               disabled=False, continuous_update=False, layout=widgets.Layout(width='250px'))\n",
    "    coord_input = lon_station, lat_station\n",
    "    \n",
    "    # create widget to select the simulation nudged to ERA5 or JRA-55\n",
    "    ndg = widgets.Dropdown(options=[('ERA5', 'era5'), ('JRA-55', 'jra55')], value='era5', \n",
    "                         description='Nudging:', continuous_update=False, layout=widgets.Layout(width='250px'))\n",
    "    \n",
    "    # create widget to select the variable\n",
    "    selvar = widgets.Dropdown(options=[('TU in precipitation', 'TU_precip'), \n",
    "                                       ('2m air temperature', 'temp2'), \n",
    "                                       ('precipitation', 'precip'),\n",
    "                                       ('d18O in precipitation', 'd18O_precip')], \n",
    "                              value='TU_precip', description='Variable:',\n",
    "                              continuous_update=False,\n",
    "                              layout=widgets.Layout(width='250px'))\n",
    "    \n",
    "    # create a widget to set the y-scale on log or linear scale\n",
    "    check_logscale = widgets.Checkbox(value=False, description=\"log scale\", continuous_update=False,\n",
    "                                      indent=False, layout=widgets.Layout(margin='0 0 0 2.5em'))\n",
    "    \n",
    "    # create widget to select the variables to save in the csv file\n",
    "    data = [\"TU in precipitation\", \"Precipitation\", \"2m air temperature\", \"d18O in precipitation\"]\n",
    "    checkboxes = [widgets.Checkbox(value=False, description=label, indent=False, continuous_update=False,\n",
    "                                   layout=widgets.Layout(width='175px', margin='0 0 0 0')) for label in data]\n",
    "    \n",
    "    # create widget for the date range\n",
    "    date_min = widgets.DatePicker(description='Date min:', disabled=False, continuous_update=False, value = datetime.date(1952,1,1))\n",
    "    date_max = widgets.DatePicker(description='Date max:', disabled=False, continuous_update=False, value = datetime.date(2021,12,1))\n",
    "    date_input = date_min, date_max\n",
    "    \n",
    "    # button to save the time series\n",
    "    btn_save = widgets.Button(description=\"save figure\", icon='file-pdf')\n",
    "    btn_save.on_click(save_monitoring_plot)\n",
    "    \n",
    "    # Arrange the control inputs:\n",
    "    controls = widgets.HBox([\n",
    "        widgets.VBox(coord_input),\n",
    "        widgets.VBox(date_input),\n",
    "        widgets.VBox([ndg, selvar]),\n",
    "        check_logscale,\n",
    "        btn_save\n",
    "    ])\n",
    "    \n",
    "    # link the data extraction command with the text input\n",
    "    plot = widgets.interactive_output(plot_and_save_data_site, \n",
    "                                      {'lon_station': lon_station, 'lat_station': lat_station,\n",
    "                                       'ndg': ndg, 'var': selvar,\n",
    "                                       'date_min': date_min, 'date_max': date_max,\n",
    "                                       'logscale': check_logscale,\n",
    "                                       'save_tu': checkboxes[0], \n",
    "                                       'save_precip': checkboxes[1], \n",
    "                                       'save_temp2': checkboxes[2],\n",
    "                                       'save_d18Op': checkboxes[3]})\n",
    "    \n",
    "    # Build the UI panel, the controls at the top, the cdo output at the bottom\n",
    "    label = widgets.HTML('<b>Select the variables to download:</b>', layout=widgets.Layout(margin='0 1em 0 0'))\n",
    "    comment1 = widgets.HTML('Note 1: the day in the date pickers is not considered.', layout=widgets.Layout(margin='1em 1em 0 0'))\n",
    "    comment2 = widgets.HTML('Note 2: for the coordinate boxes, type \\'Enter\\' or click on another box to update your change.', layout=widgets.Layout(margin='0 1em 0 0'))\n",
    "    comment3 = widgets.HTML('Note 3: the figure is saved in the current repository as monitoring_plot.pdf.', layout=widgets.Layout(margin='0 1em 0 0'))\n",
    "    ui = widgets.VBox([widgets.HBox([label, widgets.HBox(children=checkboxes)]), plot, controls, comment1, comment2, comment3])\n",
    "    \n",
    "    return ui"
   ]
  },
  {
   "cell_type": "code",
   "execution_count": 14,
   "id": "4c4398ef",
   "metadata": {
    "tags": []
   },
   "outputs": [
    {
     "data": {
      "application/vnd.jupyter.widget-view+json": {
       "model_id": "69b694a9087b47488bd7bcdc405eb0b4",
       "version_major": 2,
       "version_minor": 0
      },
      "text/plain": [
       "VBox(children=(HBox(children=(HTML(value='<b>Select the variables to download:</b>', layout=Layout(margin='0 1…"
      ]
     },
     "execution_count": 14,
     "metadata": {},
     "output_type": "execute_result"
    }
   ],
   "source": [
    "build_monitoring_plot()"
   ]
  },
  {
   "cell_type": "markdown",
   "id": "6af807a2-1c19-430a-b7eb-4379fb072f8c",
   "metadata": {},
   "source": [
    "## Map of water vapor transport"
   ]
  },
  {
   "cell_type": "code",
   "execution_count": 15,
   "id": "5b7624ac-f7c7-4373-a6f6-27cd2c43c864",
   "metadata": {
    "tags": []
   },
   "outputs": [],
   "source": [
    "def map_water_vapor_transport(ndg, date, lon_min, lon_max, lat_min, lat_max, spacing):\n",
    "    \n",
    "    global f_wt\n",
    "    \n",
    "    # ERA5 or JRA55\n",
    "    if ndg == 'era5':\n",
    "        ds = ds_era5\n",
    "    elif ndg == 'jra55':\n",
    "        ds = ds_jra55\n",
    "    \n",
    "    # conversion of some variables\n",
    "    date    = date.strftime(\"%Y-%m\")\n",
    "    lon_min = float(lon_min)\n",
    "    lon_max = float(lon_max)\n",
    "    lat_min = float(lat_min)\n",
    "    lat_max = float(lat_max)\n",
    "    spacing = int(spacing)\n",
    "    \n",
    "    title = 'Vertically integrated water vapor transport for ' + ds.sel(time=date).time.dt.strftime('%Y-%m').values[0]\n",
    "    \n",
    "    # Select month, coordinates, and calculate wind speed\n",
    "    ds_quiver = ds[['UQ', 'VQ']].sel(time=date, lon=slice(lon_min, lon_max, spacing), lat=slice(lat_max, lat_min, spacing)).squeeze()\n",
    "    ds_u = ds['UQ'].sel(time=date, lon=slice(lon_min, lon_max), lat=slice(lat_max, lat_min)).squeeze()\n",
    "    ds_v = ds['VQ'].sel(time=date, lon=slice(lon_min, lon_max), lat=slice(lat_max, lat_min)).squeeze()\n",
    "    ds_speed = np.sqrt(ds_v**2 + ds_u**2)\n",
    "    \n",
    "    # figure\n",
    "    f_wt,ax = plt.subplots(subplot_kw={'projection':ccrs.PlateCarree()})\n",
    "    \n",
    "    ds_speed.plot.pcolormesh(\n",
    "        cmap = plt.get_cmap('BrBG'), ax=ax,\n",
    "        cbar_kwargs={\n",
    "            'label':'Vertically integrated water vapor transport (kg.m$^{-1}$.s$^{-1}$)', \n",
    "            'orientation':'horizontal',\n",
    "            'pad':0.03, \n",
    "            'aspect':30\n",
    "        },\n",
    "        transform=ccrs.PlateCarree(), \n",
    "        x='lon',y='lat', levels=30, \n",
    "        edgecolors='face', shading='nearest')\n",
    "    \n",
    "    ax.coastlines()\n",
    "    ax.set_title(title)\n",
    "    Q = ax.quiver(ds_quiver['lon'], ds_quiver['lat'], ds_quiver['UQ'], ds_quiver['VQ'], scale=None, transform=ccrs.PlateCarree())\n",
    "    Q._init()\n",
    "    assert isinstance(Q.scale, float)\n",
    "    ax.quiver(ds_quiver['lon'], ds_quiver['lat'], ds_quiver['UQ'], ds_quiver['VQ'], scale_units='inches', scale=Q.scale, transform=ccrs.PlateCarree())\n",
    "    \n",
    "def save_image_transport(b):\n",
    "    f_wt.savefig('water_vapor_transport_map.pdf', bbox_inches='tight')"
   ]
  },
  {
   "cell_type": "code",
   "execution_count": 16,
   "id": "ebbffc2d-0afb-4968-82e8-2273acc44383",
   "metadata": {
    "tags": []
   },
   "outputs": [],
   "source": [
    "def build_water_vapor_trans_map():\n",
    "    \n",
    "    # create widget to select the simulation nudged to ERA5 or JRA-55\n",
    "    ndg = widgets.Dropdown(options=[('ERA5', 'era5'), ('JRA-55', 'jra55')], value='era5', \n",
    "                           description='nudging:', \n",
    "                           continuous_update=False,\n",
    "                           layout=widgets.Layout(width='250px'))\n",
    "    \n",
    "    # create widget for coordinates selection\n",
    "    lon_min = widgets.Text(value=\"-180\", \n",
    "                           placeholder='between -180 and 180', \n",
    "                           description='lon min:', \n",
    "                           disabled=False, \n",
    "                           continuous_update=False,\n",
    "                           layout=widgets.Layout(width='200px'))\n",
    "    lon_max = widgets.Text(value=\"180\", \n",
    "                           placeholder='between -180 and 180', \n",
    "                           description='lon max:', \n",
    "                           disabled=False, \n",
    "                           continuous_update=False,\n",
    "                           layout=widgets.Layout(width='200px'))\n",
    "    lat_min = widgets.Text(value=\"-90\", \n",
    "                           placeholder='between -90 and 90', \n",
    "                           description='lat min:', \n",
    "                           disabled=False, \n",
    "                           continuous_update=False,\n",
    "                           layout=widgets.Layout(width='200px'))\n",
    "    lat_max = widgets.Text(value=\"90\", \n",
    "                           placeholder='between -90 and 90', \n",
    "                           description='lat max:', \n",
    "                           disabled=False, \n",
    "                           continuous_update=False,\n",
    "                           layout=widgets.Layout(width='200px'))\n",
    "    coord_lon = lon_min, lon_max\n",
    "    coord_lat = lat_min, lat_max\n",
    "    \n",
    "    # create widget for coordinates spacing (for the vectors)\n",
    "    spacing = widgets.Text(value=\"1\", \n",
    "                           placeholder='higher or equal to 1', \n",
    "                           description='vector spacing:', \n",
    "                           disabled=False, \n",
    "                           continuous_update=False,\n",
    "                           layout=widgets.Layout(width='250px'),\n",
    "                           style= {'description_width': 'initial'})\n",
    "    \n",
    "    # create widget for the date selection\n",
    "    date = widgets.DatePicker(description='date:', disabled=False, continuous_update=False, value = datetime.date(2021,1,1))\n",
    "    \n",
    "    # Arrange the control inputs:\n",
    "    controls = widgets.HBox([\n",
    "        widgets.VBox([ndg, spacing]),\n",
    "        date,\n",
    "        widgets.VBox(coord_lon),\n",
    "        widgets.VBox(coord_lat)\n",
    "    ])\n",
    "    \n",
    "    # link the map_tritium function with the text input\n",
    "    plot = widgets.interactive_output(map_water_vapor_transport, \n",
    "                                      {'ndg': ndg, \n",
    "                                       'date': date,\n",
    "                                       'lon_min': lon_min,\n",
    "                                       'lon_max': lon_max,\n",
    "                                       'lat_min': lat_min,\n",
    "                                       'lat_max': lat_max,\n",
    "                                       'spacing': spacing\n",
    "                                      })\n",
    "    \n",
    "    # button to save the map\n",
    "    btn_save = widgets.Button(description=\"save figure\", icon='file-pdf', layout=widgets.Layout(margin='1em 0 0 0'))\n",
    "    btn_save.on_click(save_image_transport)\n",
    "\n",
    "    # Build the UI panel, the controls at the top, the cdo output at the bottom\n",
    "    comment1 = widgets.HTML('Note 1: the day in the date pickers is not considered.', layout=widgets.Layout(margin='1em 1em 0 0'))\n",
    "    comment2 = widgets.HTML('Note 2: the colorbar scale is updated according to the mean tritium values in the considered area.', layout=widgets.Layout(margin='0 1em 0 0'))\n",
    "    comment3 = widgets.HTML('Note 3: for the coordinate boxes, type \\'Enter\\' or click on another box to update your change.', layout=widgets.Layout(margin='0 1em 0 0'))\n",
    "    comment4 = widgets.HTML('Note 4: spacing parameter controls the space between vectors (1: every grid cell, 2: every two grid cells, ...).', layout=widgets.Layout(margin='0 1em 0 0'))\n",
    "    comment5 = widgets.HTML('Note 5: the figure is saved in the current repository as water_vapor_transport_map.pdf.', layout=widgets.Layout(margin='0 1em 0 0'))\n",
    "    ui = widgets.VBox([plot, controls, btn_save, comment1, comment2, comment3, comment4, comment5])\n",
    "    \n",
    "    return ui"
   ]
  },
  {
   "cell_type": "code",
   "execution_count": 17,
   "id": "e1172c6d-3efe-437a-8cbd-f8993f29e8d4",
   "metadata": {
    "tags": []
   },
   "outputs": [
    {
     "data": {
      "application/vnd.jupyter.widget-view+json": {
       "model_id": "161ce5cbe1974c87a51c45dfd2e24531",
       "version_major": 2,
       "version_minor": 0
      },
      "text/plain": [
       "VBox(children=(Output(), HBox(children=(VBox(children=(Dropdown(description='nudging:', layout=Layout(width='2…"
      ]
     },
     "execution_count": 17,
     "metadata": {},
     "output_type": "execute_result"
    }
   ],
   "source": [
    "build_water_vapor_trans_map()"
   ]
  },
  {
   "cell_type": "markdown",
   "id": "3c1d3cb9-d4b6-4b0e-95fa-f7d425b91b4b",
   "metadata": {},
   "source": [
    "## Packages version"
   ]
  },
  {
   "cell_type": "code",
   "execution_count": 18,
   "id": "43d623eb-dbb1-4e27-b46e-a4383c48cdb4",
   "metadata": {
    "tags": []
   },
   "outputs": [
    {
     "name": "stdout",
     "output_type": "stream",
     "text": [
      "Python implementation: CPython\n",
      "Python version       : 3.11.2\n",
      "IPython version      : 8.12.0\n",
      "\n",
      "wget      : 3.2\n",
      "numpy     : 1.24.2\n",
      "xarray    : 2023.3.0\n",
      "solara    : 1.19.0\n",
      "ipywidgets: 8.0.6\n",
      "matplotlib: 3.6.3\n",
      "cartopy   : 0.21.1\n",
      "watermark : 2.4.3\n",
      "\n",
      "Compiler    : Clang 14.0.6 \n",
      "OS          : Darwin\n",
      "Release     : 22.6.0\n",
      "Machine     : x86_64\n",
      "Processor   : i386\n",
      "CPU cores   : 10\n",
      "Architecture: 64bit\n",
      "\n",
      " \n",
      "Last updated: Thu Sep 28 2023 10:46:04JST\n",
      "\n"
     ]
    }
   ],
   "source": [
    "%load_ext watermark\n",
    "\n",
    "# python, ipython, packages, and machine characteristics\n",
    "%watermark -v -m -p wget,numpy,xarray,solara,ipywidgets,matplotlib,cartopy,watermark\n",
    "\n",
    "# date\n",
    "print (\" \")\n",
    "%watermark -u -n -t -z"
   ]
  },
  {
   "cell_type": "code",
   "execution_count": null,
   "id": "59498e27-e6e1-47bf-a880-44fc5af2c146",
   "metadata": {},
   "outputs": [],
   "source": []
  }
 ],
 "metadata": {
  "kernelspec": {
   "display_name": "Python 3 (ipykernel)",
   "language": "python",
   "name": "python3"
  },
  "language_info": {
   "codemirror_mode": {
    "name": "ipython",
    "version": 3
   },
   "file_extension": ".py",
   "mimetype": "text/x-python",
   "name": "python",
   "nbconvert_exporter": "python",
   "pygments_lexer": "ipython3",
   "version": "3.11.2"
  },
  "toc-autonumbering": true,
  "toc-showcode": false,
  "toc-showmarkdowntxt": false
 },
 "nbformat": 4,
 "nbformat_minor": 5
}
